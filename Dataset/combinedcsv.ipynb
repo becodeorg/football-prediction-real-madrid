{
 "cells": [
  {
   "cell_type": "markdown",
   "id": "eee76c03",
   "metadata": {},
   "source": [
    "# Combination of the 6 CSV files S&P 500\n",
    "\n",
    "This notebook combines the 6 CSV files containing historical S&P 500 data:\n",
    "- `1_01012020 to 12312020.csv` - Data 2020\n",
    "- `2_04012021 to 01012022.csv` - Data 2021  \n",
    "- `3_04012022 to 02012023.csv` - Data 2022\n",
    "- `4_01012023 to 01012024.csv` - Data 2023\n",
    "- `5_02012024 to 01012025.csv` - Data 2024\n",
    "- `6_01012025 to 25072025.csv` - Data 2025 (until July 25th)"
   ]
  },
  {
   "cell_type": "code",
   "execution_count": 1,
   "id": "faf59cbc",
   "metadata": {},
   "outputs": [],
   "source": [
    "import pandas as pd\n",
    "import glob\n",
    "import os"
   ]
  },
  {
   "cell_type": "code",
   "execution_count": 2,
   "id": "23a951e6",
   "metadata": {},
   "outputs": [
    {
     "name": "stdout",
     "output_type": "stream",
     "text": [
      "CSV files to combine: 6\n",
      "  1. 1_01012020 to 12312020.csv\n",
      "  2. 2_04012021 to 01012022.csv\n",
      "  3. 3_04012022 to 02012023.csv\n",
      "  4. 4_01012023 to 01012024.csv\n",
      "  5. 5_02012024 to 01012025.csv\n",
      "  6. 6_01012025 to 25072025.csv\n"
     ]
    }
   ],
   "source": [
    "# 🔹 Folder containing the 6 CSV files\n",
    "folder_path = \".\"  # Current folder (Dataset)\n",
    "\n",
    "# 🔹 Specific list of the 6 S&P 500 CSV files\n",
    "csv_files = [\n",
    "    \"1_01012020 to 12312020.csv\",\n",
    "    \"2_04012021 to 01012022.csv\", \n",
    "    \"3_04012022 to 02012023.csv\",\n",
    "    \"4_01012023 to 01012024.csv\",\n",
    "    \"5_02012024 to 01012025.csv\",\n",
    "    \"6_01012025 to 25072025.csv\"\n",
    "]\n",
    "\n",
    "print(f\"CSV files to combine: {len(csv_files)}\")\n",
    "for i, file in enumerate(csv_files, 1):\n",
    "    print(f\"  {i}. {file}\")"
   ]
  },
  {
   "cell_type": "code",
   "execution_count": 3,
   "id": "2b945693",
   "metadata": {},
   "outputs": [
    {
     "name": "stdout",
     "output_type": "stream",
     "text": [
      "✅ Found: 1_01012020 to 12312020.csv\n",
      "✅ Found: 2_04012021 to 01012022.csv\n",
      "✅ Found: 3_04012022 to 02012023.csv\n",
      "✅ Found: 4_01012023 to 01012024.csv\n",
      "✅ Found: 5_02012024 to 01012025.csv\n",
      "✅ Found: 6_01012025 to 25072025.csv\n",
      "\n",
      "📊 Summary:\n",
      "  - Files found: 6\n",
      "  - Files missing: 0\n",
      "\n",
      "🎉 All files are present!\n"
     ]
    }
   ],
   "source": [
    "# 🔹 Check file existence\n",
    "existing_files = []\n",
    "missing_files = []\n",
    "\n",
    "for file in csv_files:\n",
    "    file_path = os.path.join(folder_path, file)\n",
    "    if os.path.exists(file_path):\n",
    "        existing_files.append(file_path)\n",
    "        print(f\"✅ Found: {file}\")\n",
    "    else:\n",
    "        missing_files.append(file)\n",
    "        print(f\"❌ Missing: {file}\")\n",
    "\n",
    "print(f\"\\n📊 Summary:\")\n",
    "print(f\"  - Files found: {len(existing_files)}\")\n",
    "print(f\"  - Files missing: {len(missing_files)}\")\n",
    "\n",
    "if missing_files:\n",
    "    print(f\"\\n⚠️  Missing files: {missing_files}\")\n",
    "else:\n",
    "    print(f\"\\n🎉 All files are present!\")"
   ]
  },
  {
   "cell_type": "code",
   "execution_count": 4,
   "id": "5fa6445f",
   "metadata": {},
   "outputs": [
    {
     "name": "stdout",
     "output_type": "stream",
     "text": [
      "📖 Reading CSV files...\n",
      "  1. 1_01012020 to 12312020.csv: 253 rows, 5 columns\n",
      "  2. 2_04012021 to 01012022.csv: 253 rows, 5 columns\n",
      "  3. 3_04012022 to 02012023.csv: 250 rows, 5 columns\n",
      "  4. 4_01012023 to 01012024.csv: 250 rows, 5 columns\n",
      "  5. 5_02012024 to 01012025.csv: 253 rows, 5 columns\n",
      "  6. 6_01012025 to 25072025.csv: 139 rows, 5 columns\n",
      "\n",
      "✅ Combination successful!\n",
      "📊 Final dataset: 1398 rows, 6 columns\n",
      "  5. 5_02012024 to 01012025.csv: 253 rows, 5 columns\n",
      "  6. 6_01012025 to 25072025.csv: 139 rows, 5 columns\n",
      "\n",
      "✅ Combination successful!\n",
      "📊 Final dataset: 1398 rows, 6 columns\n"
     ]
    }
   ],
   "source": [
    "# 🔹 Read and combine CSV files\n",
    "dataframes = []\n",
    "\n",
    "print(\"📖 Reading CSV files...\")\n",
    "for i, file_path in enumerate(existing_files, 1):\n",
    "    try:\n",
    "        df = pd.read_csv(file_path)\n",
    "        \n",
    "        # Add a column to identify the source\n",
    "        filename = os.path.basename(file_path)\n",
    "        df['source_file'] = filename\n",
    "        \n",
    "        dataframes.append(df)\n",
    "        print(f\"  {i}. {filename}: {len(df)} rows, {len(df.columns)-1} columns\")\n",
    "        \n",
    "    except Exception as e:\n",
    "        print(f\"❌ Error reading {file_path}: {e}\")\n",
    "\n",
    "# Combine all DataFrames\n",
    "if dataframes:\n",
    "    df_combined = pd.concat(dataframes, ignore_index=True)\n",
    "    print(f\"\\n✅ Combination successful!\")\n",
    "    print(f\"📊 Final dataset: {len(df_combined)} rows, {len(df_combined.columns)} columns\")\n",
    "else:\n",
    "    print(\"❌ No files could be read!\")"
   ]
  },
  {
   "cell_type": "code",
   "execution_count": 5,
   "id": "c040dfc8",
   "metadata": {},
   "outputs": [
    {
     "name": "stdout",
     "output_type": "stream",
     "text": [
      "📈 Combined S&P 500 dataset information:\n",
      "  - Total rows: 1,398\n",
      "  - Number of columns: 6\n",
      "\n",
      "📊 Available columns:\n",
      "  - Date\n",
      "  - Open\n",
      "  - High\n",
      "  - Low\n",
      "  - Close\n",
      "  - source_file\n",
      "\n",
      "📅 Time period covered:\n",
      "  - From: 01/02/2020\n",
      "  - To: 07/25/2025\n",
      "\n",
      "🗂️  Distribution by source file:\n",
      "  - 1_01012020 to 12312020.csv: 253 rows\n",
      "  - 2_04012021 to 01012022.csv: 253 rows\n",
      "  - 3_04012022 to 02012023.csv: 250 rows\n",
      "  - 4_01012023 to 01012024.csv: 250 rows\n",
      "  - 5_02012024 to 01012025.csv: 253 rows\n",
      "  - 6_01012025 to 25072025.csv: 139 rows\n",
      "\n",
      "👀 Preview of the first rows:\n",
      "        Date      Open      High       Low     Close  \\\n",
      "0 2020-12-31  3,733.27  3,760.20  3,726.88  3,756.07   \n",
      "1 2020-12-30  3,736.19  3,744.63  3,730.21  3,732.04   \n",
      "2 2020-12-29  3,750.01  3,756.12  3,723.31  3,727.04   \n",
      "3 2020-12-28  3,723.03  3,740.51  3,723.03  3,735.36   \n",
      "4 2020-12-24  3,694.03  3,703.82  3,689.32  3,703.06   \n",
      "\n",
      "                  source_file  \n",
      "0  1_01012020 to 12312020.csv  \n",
      "1  1_01012020 to 12312020.csv  \n",
      "2  1_01012020 to 12312020.csv  \n",
      "3  1_01012020 to 12312020.csv  \n",
      "4  1_01012020 to 12312020.csv  \n"
     ]
    }
   ],
   "source": [
    "# 🔹 Information about the combined dataset\n",
    "if 'df_combined' in locals():\n",
    "    print(\"📈 Combined S&P 500 dataset information:\")\n",
    "    print(f\"  - Total rows: {len(df_combined):,}\")\n",
    "    print(f\"  - Number of columns: {len(df_combined.columns)}\")\n",
    "    \n",
    "    print(f\"\\n📊 Available columns:\")\n",
    "    for col in df_combined.columns:\n",
    "        print(f\"  - {col}\")\n",
    "    \n",
    "    print(f\"\\n📅 Time period covered:\")\n",
    "    if 'Date' in df_combined.columns:\n",
    "        df_combined['Date'] = pd.to_datetime(df_combined['Date'])\n",
    "        print(f\"  - From: {df_combined['Date'].min().strftime('%m/%d/%Y')}\")\n",
    "        print(f\"  - To: {df_combined['Date'].max().strftime('%m/%d/%Y')}\")\n",
    "    \n",
    "    print(f\"\\n🗂️  Distribution by source file:\")\n",
    "    source_counts = df_combined['source_file'].value_counts().sort_index()\n",
    "    for source, count in source_counts.items():\n",
    "        print(f\"  - {source}: {count:,} rows\")\n",
    "    \n",
    "    print(f\"\\n👀 Preview of the first rows:\")\n",
    "    print(df_combined.head())\n",
    "else:\n",
    "    print(\"❌ The combined dataset does not exist!\")"
   ]
  },
  {
   "cell_type": "code",
   "execution_count": 6,
   "id": "067b2bab",
   "metadata": {},
   "outputs": [
    {
     "name": "stdout",
     "output_type": "stream",
     "text": [
      "✅ Combined dataset saved as: SP500_combined_2020-2025.csv\n",
      "📂 File size: 0.11 MB\n"
     ]
    }
   ],
   "source": [
    "# 🔹 Save the combined dataset\n",
    "if 'df_combined' in locals():\n",
    "    output_filename = \"SP500_combined_2020-2025.csv\"\n",
    "    \n",
    "    try:\n",
    "        df_combined.to_csv(output_filename, index=False)\n",
    "        print(f\"✅ Combined dataset saved as: {output_filename}\")\n",
    "        print(f\"📂 File size: {os.path.getsize(output_filename) / 1024 / 1024:.2f} MB\")\n",
    "    except Exception as e:\n",
    "        print(f\"❌ Error during save: {e}\")\n",
    "else:\n",
    "    print(\"❌ No dataset to save!\")"
   ]
  }
 ],
 "metadata": {
  "kernelspec": {
   "display_name": "venv (3.13.5)",
   "language": "python",
   "name": "python3"
  },
  "language_info": {
   "codemirror_mode": {
    "name": "ipython",
    "version": 3
   },
   "file_extension": ".py",
   "mimetype": "text/x-python",
   "name": "python",
   "nbconvert_exporter": "python",
   "pygments_lexer": "ipython3",
   "version": "3.13.5"
  }
 },
 "nbformat": 4,
 "nbformat_minor": 5
}
